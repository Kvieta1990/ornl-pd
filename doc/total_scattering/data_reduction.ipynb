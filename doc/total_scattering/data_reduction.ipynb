{
 "cells": [
  {
   "cell_type": "markdown",
   "id": "22fa7c40-f6e9-4e09-90cb-e41415a57d6a",
   "metadata": {},
   "source": [
    "Data Reduction\n",
    "==="
   ]
  },
  {
   "cell_type": "markdown",
   "id": "cf8e36ee-aeca-453b-a2dc-6ec761ed3519",
   "metadata": {},
   "source": [
    "## NOMAD"
   ]
  },
  {
   "cell_type": "markdown",
   "id": "1a771eb8-44ec-4e2e-92fd-494916019dc3",
   "metadata": {},
   "source": [
    "## POWGEN"
   ]
  }
 ],
 "metadata": {
  "kernelspec": {
   "display_name": "Python (default)",
   "language": "python",
   "name": "python3"
  },
  "language_info": {
   "codemirror_mode": {
    "name": "ipython",
    "version": 3
   },
   "file_extension": ".py",
   "mimetype": "text/x-python",
   "name": "python",
   "nbconvert_exporter": "python",
   "pygments_lexer": "ipython3",
   "version": "3.7.13"
  },
  "widgets": {
   "application/vnd.jupyter.widget-state+json": {
    "state": {},
    "version_major": 2,
    "version_minor": 0
   }
  }
 },
 "nbformat": 4,
 "nbformat_minor": 5
}
