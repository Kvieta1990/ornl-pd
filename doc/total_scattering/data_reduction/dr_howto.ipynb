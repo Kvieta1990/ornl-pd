{
 "cells": [
  {
   "cell_type": "markdown",
   "id": "22fa7c40-f6e9-4e09-90cb-e41415a57d6a",
   "metadata": {},
   "source": [
    "Data Reduction How-to\n",
    "==="
   ]
  },
  {
   "cell_type": "markdown",
   "id": "8fd041f0-b2be-4a90-a965-5e60ad3ef29c",
   "metadata": {},
   "source": [
    "## Step-by-step Instruction\n",
    "\n",
    "The <a href=\"https://github.com/neutrons/addie\" target=\"_blank\">ADDIE</a> software deployed on analysis will be used for the manual reduction for the total scattering data measured on SNS total scattering instruments (e.g., NOMAD and POWGEN). Multiple versions of ADDIE are available on analysis cluster, across the developing pipeline, from the nightly development version, the release candidate, to the production version. Normally, for general users, the production verison should be used, while the release candidate version is for the instrument team to test out the new implementation and the nightly development version is for developers. In ADDIE, there are two types of interface available -- one for the `autoNOM` approach of reducing the data and the other for the `MantidTotalScattering` framework. With the new implementation of `MantidTotalScattering` (as of writing, 05/27/2023), we strongly recommend users to use the new `MantidTotalScattering` framework for reducing their data. The instructions prsented in this book for data reduction will `ONLY` focus on the `MantidTotalScattering` interface.\n",
    "\n",
    "1. To launch ADDIE, one should connect to the analysis cluster (<a href=\"https://analysis.sns.gov\" target=\"_blank\">https://analysis.sns.gov</a>) hosted at ORNL using their UCAMS account which should be created along with the user experiment by the IT support team. For the connection, one could use either a browser or <a href=\"https://www.cendio.com/thinlinc/download\" target=\"_blank\">ThinLinc</a>. Once logged in, launch a terminal from the applications inventory,\n",
    "\n",
    "    <img src=\"../../imgs/analysis_term.png\" alt=\"drawing\" width=\"600\"/>\n",
    "    \n",
    "    Then type in `addie` command to start the software. The default interface is `autoNOM` and to switch to the `MantidTotalScattering` interface, one should go to `File` $\\rightarrow$ `Settings ...` from the menu to bring up the settings window, as shown below,\n",
    "\n",
    "    <img src=\"../../imgs/addie_mts_switch.png\" alt=\"drawing\" width=\"800\"/>\n",
    "\n",
    "    where one can click on the `Mantid` radio button as shown in the image, to see the interface as shown below,\n",
    "    \n",
    "    <img src=\"../../imgs/addie_mts_main.png\" alt=\"drawing\" width=\"800\"/>\n",
    "\n",
    "2. From the main interface, right click anywhere in the large white space in the middle of the main window to bring up the context menu, where one has multiple options to populate and manipulate the table. To first populate the table, one has multiple options -- select a working directory, select an IPTS, load in previously saved JSON configuration file, or directly fetch information from the ONCAT database by logging in with UCAMS. The `select an IPTS` method is *recommended* whenever applicable since the manual input effort is the least, and we will start with it. In the right-click context menu, click on `Change to IPTS` and a window will pop-up to accept user input of the IPTS number (only integer number is acceptable as the input). Here, we will use the `IPTS-28922` as an example (so we need to input `28922` in the pop-up window) -- it is an IPTS for hosting all those instrument characterization runs and we have ever run a manual auto-reduction for a typical silicon measurement for the demo purpose.\n",
    "\n",
    "    > N.B. For the `select an IPTS` method to work, it is required an auto-reduction has ever been run before (this is normally the case for a typical measurement) which will create an IPTS specific JSON file that needs to be loaded in when we select an IPTS.\n",
    "    \n",
    "    <img src=\"../../imgs/addie_c_ipts.png\" alt=\"drawing\" width=\"800\"/>\n",
    "    \n",
    "    Once a valid IPTS is accpeted, ADDIE will search the relevant directory corresponding to the selected IPTS for the JSON file saved previously at the auto-reduction stage. If it can be found, ADDIE will load it in. If not, ADDIE will search for an alternative JSON file called `exp.json` which will be saved once a manual reduction is launched successfully. If valid JSON file can be identified and loaded in by ADDIE, the input table will be populated with the loaded JSON file, as shown below,\n",
    "    \n",
    "    <img src=\"../../imgs/addie_main_table.png\" alt=\"drawing\" width=\"800\"/>\n",
    "    \n",
    "    Following the same searching mechanism as for the approach of `select an IPTS`, ADDIE also provides the way of populating the table by selecting a working directory. To do this, in the right-click context menu, one needs to select the `Change To Working Dir.` option,\n",
    "    \n",
    "    <img src=\"../../imgs/addie_c_wd.png\" alt=\"drawing\" width=\"800\"/>\n",
    "    \n",
    "    followed by browsing into the intended working directory with the pop-up file explorer window. The same searching as detailed above (for the `select an IPTS` approach) will be applied, within the selected working directory. In fact, the `select an IPTS` appoach is just a convenient shortcut to the `select a working directory` approach since the working directory will be automatically set for a given IPTS, e.g., to `/SNS/NOM/IPTS-28922/shared/autoMTS`.\n",
    "    \n",
    "    > N.B. The instrument could be selected in the settings (`File` $\\rightarrow$ `Settings ...`) from the instrument dropdown list -- currently `NOMAD` and `POWGEN` instruments are supported. The selection of instrument will determine the automatically set working directory when the `select an IPTS` approach is used.\n",
    "    \n",
    "    A third way of populating the table is to load in a previously saved JSON file and such a JSON file could be saved to and loaded from anywhere. Once the table is populated through whichever way, one can export the table as a JSON file and later on, the saved JSON file could be loaded in through this third approach. To export the populated table, one could refer to the following image,\n",
    "    \n",
    "    <img src=\"../../imgs/addie_export_table.png\" alt=\"drawing\" width=\"800\"/>\n",
    "    \n",
    "    and to load in the saved JSON file, one refers to,\n",
    "    \n",
    "    <img src=\"../../imgs/addie_load_table.png\" alt=\"drawing\" width=\"800\"/>\n",
    "    \n",
    "    Here, there are two options `Replace ...` or `Append ...` -- the former option is for replacing the already populated table with the loaded JSON file, and the latter one is to append the loaded JSON to the already populated table.\n",
    "    \n",
    "    The last option is to directly load in all the information from the ONCAT database. To do this, select `Table` $rightarrow$ `Import from Database` $\\rightarrow$ either `Aeplace ...` or `Append ...`, from thee right-click context menu. Once selected, the authentication window will pop up and we need to put in our UCAMS credentials to log in. Then one could either input (or select) an IPTS (see the red arrows in the image below),\n",
    "    \n",
    "    <img src=\"../../imgs/addie_db_ipts.png\" alt=\"drawing\" width=\"800\"/>\n",
    "    \n",
    "    or input the run numbers,\n",
    "    \n",
    "    <img src=\"../../imgs/addie_db_run.png\" alt=\"drawing\" width=\"800\"/>\n",
    "    \n",
    "    followed by clicking on the `Import All Runs` button,\n",
    "    \n",
    "    <img src=\"../../imgs/addie_db_import.png\" alt=\"drawing\" width=\"800\"/>\n",
    "    \n",
    "    and the next pop-up window is for users to specify how they want to merge the individual runs, using the raw title or the raw title with the dynamic temperature removed. Usually, we should stay with the option of `raw title with dynamic temperature removed`. All the available options have their corresponding demo in the preview window so users can get an idea about what is expected to happen when making a certain selection,\n",
    "    \n",
    "    <img src=\"../../imgs/addie_merge_selection.png\" alt=\"drawing\" width=\"800\"/>\n",
    "    \n",
    "    Using any of the options as detailed above, the input table could be populated. Users can manipulate the table by changing the relevant entries, add or remove rows, etc. and the details won't be covered here.\n",
    "    \n",
    "3. Next, we need to specify the calibration file used for the reduction. Following either the `select an IPTS` or `select a working directory` approach, the calibration file should have been populated automatically. In case we need to manually select a calibration file, we can click on the `Browse ...` button to select an H5 file saved from previously running calibration routine.\n",
    "\n",
    "    <img src=\"../../imgs/addie_calib_select.png\" alt=\"drawing\" width=\"800\"/>\n",
    "    \n",
    "    > N.B. Normally, the calibration file will be prepared automatically after running a calibrant (e.g., diamond) measurement. For the instrument team, in case it is needed to prepare the calibration file manually, click on the `Make ...` button to bring up the calibration preparation window. From there, information about the calibrant measurement could be entered and a calibration job could be launched to prepare the calibration file. Those entries should be self-explaining.\n",
    "    \n",
    "    <img src=\"../../imgs/addie_calib_make.png\" alt=\"drawing\" width=\"800\"/>\n",
    "    \n",
    "4. For advanced users, clicking on the `Reduction Configuration ...` button (see the red arrow in the image below) to bring up the advanced reduction configuration window. Here, parameters for align & focus detectors, Fourier transform, and among other controls could be configured. One could refer to the two regions indicated by the red arrows for a typical setup (they are normally the only parameters that need to be configured),\n",
    "\n",
    "    <img src=\"../../imgs/addie_red_config.png\" alt=\"drawing\" width=\"800\"/>\n",
    "    \n",
    "    The `PDF` section configures the Fourier transform and the `Global Align and Focus Arguments` is for parameters concerning the align and focus. Refer to the Mantid documentation page about <a href=\"https://docs.mantidproject.org/nightly/algorithms/AlignAndFocusPowder-v1.html\" target=\"_blank\">AlignAndFocusPowder</a> for details about all those available parameters.\n",
    "\n",
    "5. One final configuraiton is the output directory. By default, it will be set to the `output` directory (if not existing, ADDIE will create it) under the directory where ADDIE is launched. Depending on the method used for populating the table, the output directory will be set to different locations. If using the `select the working directory` method, the output directory will be set to the `output_DATE_INDEX` directory under the working directory -- `DATE` is the time stamp and `INDEX` is a minimum number that guarantees a non-existing output directory under the working directory. ADDIE will configure the output directory automatically in the background in this case. With the `select an IPTS` approach, the output directory will be set in the same way and the only difference is the working directory is set automatically in this case, as detailed above in step-2. When using the `Import from Database` approach, the output directory will stay as default.\n",
    "\n",
    "6. Once all the configurations have been processed properly, it is time to run the data reduction by selecting `PDF` from the dropdown list (see the red arrow in the image below) followed by clicking on the `Run` button.\n",
    "\n",
    "    <img src=\"../../imgs/addie_run.png\" alt=\"drawing\" width=\"800\"/>\n",
    "    \n",
    "7. The reduced data could be found under the output directory, with the structure as below,\n",
    "\n",
    "    <img src=\"../../imgs/addie_out_fs.png\" alt=\"drawing\" width=\"100\"/>\n",
    "\n",
    "where the `exp.json` file was saved automatically when running the table. All the other directories should be self-explaining by their names, containing reduced data in different format. The `SofQ` directory is worth mentioning -- it contains the reudced bank-by-bank normalized $S(Q)$ data (which should asymptotically approach 1 in the high-$Q$ region) in the NeXus format. The actualy data will then need to be extracted and merged in the following step."
   ]
  },
  {
   "cell_type": "markdown",
   "id": "fd6deeb2-cb6e-42ef-a800-7c3a38a06162",
   "metadata": {},
   "source": [
    "## Demo Videos"
   ]
  },
  {
   "cell_type": "code",
   "execution_count": null,
   "id": "00cd1703-7369-43c6-a4cc-025fb33e824a",
   "metadata": {},
   "outputs": [],
   "source": []
  }
 ],
 "metadata": {
  "kernelspec": {
   "display_name": "Python (default)",
   "language": "python",
   "name": "python3"
  },
  "language_info": {
   "codemirror_mode": {
    "name": "ipython",
    "version": 3
   },
   "file_extension": ".py",
   "mimetype": "text/x-python",
   "name": "python",
   "nbconvert_exporter": "python",
   "pygments_lexer": "ipython3",
   "version": "3.7.13"
  },
  "widgets": {
   "application/vnd.jupyter.widget-state+json": {
    "state": {},
    "version_major": 2,
    "version_minor": 0
   }
  }
 },
 "nbformat": 4,
 "nbformat_minor": 5
}
