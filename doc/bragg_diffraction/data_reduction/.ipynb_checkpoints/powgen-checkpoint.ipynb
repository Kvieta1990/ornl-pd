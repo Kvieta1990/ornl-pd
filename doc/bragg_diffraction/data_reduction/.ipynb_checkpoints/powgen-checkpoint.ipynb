{
 "cells": [
  {
   "cell_type": "markdown",
   "id": "22fa7c40-f6e9-4e09-90cb-e41415a57d6a",
   "metadata": {},
   "source": [
    "SNAP | BL-3 | SNS\n",
    "==="
   ]
  },
  {
   "cell_type": "markdown",
   "id": "1a771eb8-44ec-4e2e-92fd-494916019dc3",
   "metadata": {},
   "source": [
    "## Overview. \n",
    "\n",
    "SNAP powder diffraction data reduction uses a backend processing package called [`SNAPRed`](https://github.com/neutrons/SNAPRed) which is accessed via a python scripting wrapper called [`snapwrap`](https://github.com/neutrons/snapwrap) designed to be used in the [mantid workbench application](https://mantidproject.org/).\n",
    "\n",
    "`snapwrap` contains all the functions needed to reduce data measured on SNAP \n",
    "\n",
    "## How to access `snapwrap`\n",
    "\n",
    "To access an instance of `mantid workbench` with snapwrap installed:\n",
    "\n",
    "1. log in to the analysis cluster at [analysis.sns.gov](https://www.analysis.sns.gov) through a web browser or using the [thinlinc client](https://www.cendio.com/thinlinc/download/)\n",
    "2. open a terminal (e.g. by right clicking on the desktop and selecting \"Open Terminal Here\")\n",
    "3. type snapwrap <enter> at the command prompt.\n",
    "\n",
    "\n",
    "An instance of `mantid workbench` will open. \n",
    "\n",
    "## snapwrap modules\n",
    "\n",
    "`snapwrap` is contains 4 primary modules that can be imported into scripts and used to reduce data. These modules are summarised below and described in detail in following sections. \n",
    "\n",
    "|module | Functions|\n",
    "|-------|----------|\n",
    "|utils  | Handles the main tasks of reducing and exporting data. This is the primary modulde for most reduction scripts|\n",
    "|maskUtils | Holds functions used to apply masks to data: either excluding entire pixels or events within certain ranges inside a pixel |\n",
    "|io     | Manages importing and exporting of data from snapwrap e.g. supporting exporting of GSAS-II files|\n",
    "|snapStateMgr | Has many several tools for managing different instrument configurations.| \n",
    "\n",
    "Most of the time, you will only ever need the utils module\n",
    "\n",
    "## writing a simple `snapwrap` script\n",
    "\n",
    "At its most minimial, it is possible to reduce data using only the experimental run number as input. A script to do this would just involve importing the utils module and running the reduce function: \n",
    "\n",
    "```\n",
    "import snapwrap.utils as wrap\n",
    "\n",
    "wrap.reduce(64413)\n",
    "```\n",
    "\n",
    "will reduce the data for neutron run number 64413.\n"
   ]
  },
  {
   "cell_type": "markdown",
   "id": "6dd9517b-3505-4cb6-8f5e-3e83def7e0f2",
   "metadata": {},
   "source": [
    "## More Materials"
   ]
  }
 ],
 "metadata": {
  "kernelspec": {
   "display_name": "Python 3 (ipykernel)",
   "language": "python",
   "name": "python3"
  },
  "language_info": {
   "codemirror_mode": {
    "name": "ipython",
    "version": 3
   },
   "file_extension": ".py",
   "mimetype": "text/x-python",
   "name": "python",
   "nbconvert_exporter": "python",
   "pygments_lexer": "ipython3",
   "version": "3.13.2"
  },
  "widgets": {
   "application/vnd.jupyter.widget-state+json": {
    "state": {},
    "version_major": 2,
    "version_minor": 0
   }
  }
 },
 "nbformat": 4,
 "nbformat_minor": 5
}
