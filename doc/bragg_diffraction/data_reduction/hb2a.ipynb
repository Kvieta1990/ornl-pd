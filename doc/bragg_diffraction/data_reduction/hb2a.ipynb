{
 "cells": [
  {
   "cell_type": "markdown",
   "id": "4f382f3a-499f-4842-86df-03ed0098878e",
   "metadata": {
    "execution": {
     "iopub.execute_input": "2023-04-26T15:40:45.615653Z",
     "iopub.status.busy": "2023-04-26T15:40:45.615324Z",
     "iopub.status.idle": "2023-04-26T15:40:45.620892Z",
     "shell.execute_reply": "2023-04-26T15:40:45.620092Z",
     "shell.execute_reply.started": "2023-04-26T15:40:45.615631Z"
    }
   },
   "source": [
    "Bragg Diffraction Data Reduction on POWDER | HB-2A | HFIR\n",
    "==="
   ]
  },
  {
   "cell_type": "markdown",
   "id": "5c930a8c-0b2d-4120-9e88-20426ac55242",
   "metadata": {},
   "source": [
    "## Step-by-step Instruction"
   ]
  },
  {
   "cell_type": "markdown",
   "id": "15f56eb0-9ca4-45a1-8a3b-be239f378d63",
   "metadata": {},
   "source": [
    "## More Materials"
   ]
  }
 ],
 "metadata": {
  "kernelspec": {
   "display_name": "Python (default)",
   "language": "python",
   "name": "python3"
  },
  "language_info": {
   "codemirror_mode": {
    "name": "ipython",
    "version": 3
   },
   "file_extension": ".py",
   "mimetype": "text/x-python",
   "name": "python",
   "nbconvert_exporter": "python",
   "pygments_lexer": "ipython3",
   "version": "3.7.13"
  },
  "widgets": {
   "application/vnd.jupyter.widget-state+json": {
    "state": {},
    "version_major": 2,
    "version_minor": 0
   }
  }
 },
 "nbformat": 4,
 "nbformat_minor": 5
}
