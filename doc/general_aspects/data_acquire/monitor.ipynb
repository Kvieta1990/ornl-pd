{
 "cells": [
  {
   "cell_type": "markdown",
   "id": "3634c0f9-76e5-48d9-9fbb-b4d9184f45ac",
   "metadata": {},
   "source": [
    "Data Monitor\n",
    "==="
   ]
  },
  {
   "cell_type": "markdown",
   "id": "00cc7a62",
   "metadata": {},
   "source": [
    "A web-based data monitoring interface is available to monitor the experiment progress, at [https://monitor.sns.gov](https://monitor.sns.gov).\n",
    "\n",
    "## Configure PVs To Be Displayed On Monitor\n",
    "\n",
    "On the instrument landing page, a series of sample logs will be displayed for users to quickly check the status of the experiment and instrument configuration. The sample logs to be displayed are configurable, and here below is a demo video about how to do the configuration in CSS (the frontend interface for instrument control)."
   ]
  },
  {
   "cell_type": "code",
   "execution_count": 1,
   "id": "5cf8b98d-9b15-496e-85e4-4c70045dba64",
   "metadata": {
    "execution": {
     "iopub.execute_input": "2023-10-12T16:59:43.949116Z",
     "iopub.status.busy": "2023-10-12T16:59:43.948121Z",
     "iopub.status.idle": "2023-10-12T16:59:44.142660Z",
     "shell.execute_reply": "2023-10-12T16:59:44.142016Z",
     "shell.execute_reply.started": "2023-10-12T16:59:43.949089Z"
    },
    "tags": []
   },
   "outputs": [
    {
     "data": {
      "text/html": [
       "\n",
       "        <iframe\n",
       "            width=\"720\"\n",
       "            height=\"500\"\n",
       "            src=\"https://www.youtube.com/embed/diPdjyutpfU\"\n",
       "            frameborder=\"0\"\n",
       "            allowfullscreen\n",
       "            \n",
       "        ></iframe>\n",
       "        "
      ],
      "text/plain": [
       "<IPython.lib.display.YouTubeVideo at 0x110b88230>"
      ]
     },
     "execution_count": 1,
     "metadata": {},
     "output_type": "execute_result"
    }
   ],
   "source": [
    "from IPython.display import YouTubeVideo\n",
    "YouTubeVideo('diPdjyutpfU', width=720, height=500)"
   ]
  }
 ],
 "metadata": {
  "kernelspec": {
   "display_name": "Python 3",
   "language": "python",
   "name": "python3"
  },
  "language_info": {
   "codemirror_mode": {
    "name": "ipython",
    "version": 3
   },
   "file_extension": ".py",
   "mimetype": "text/x-python",
   "name": "python",
   "nbconvert_exporter": "python",
   "pygments_lexer": "ipython3",
   "version": "3.12.2"
  },
  "widgets": {
   "application/vnd.jupyter.widget-state+json": {
    "state": {},
    "version_major": 2,
    "version_minor": 0
   }
  }
 },
 "nbformat": 4,
 "nbformat_minor": 5
}
