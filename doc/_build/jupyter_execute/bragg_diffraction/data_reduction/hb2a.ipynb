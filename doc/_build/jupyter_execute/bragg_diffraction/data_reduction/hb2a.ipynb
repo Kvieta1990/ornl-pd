{
 "cells": [
  {
   "cell_type": "markdown",
   "id": "4f382f3a-499f-4842-86df-03ed0098878e",
   "metadata": {
    "execution": {
     "iopub.execute_input": "2023-04-26T15:40:45.615653Z",
     "iopub.status.busy": "2023-04-26T15:40:45.615324Z",
     "iopub.status.idle": "2023-04-26T15:40:45.620892Z",
     "shell.execute_reply": "2023-04-26T15:40:45.620092Z",
     "shell.execute_reply.started": "2023-04-26T15:40:45.615631Z"
    }
   },
   "source": [
    "POWDER | HB-2A | HFIR\n",
    "==="
   ]
  },
  {
   "cell_type": "markdown",
   "id": "5c930a8c-0b2d-4120-9e88-20426ac55242",
   "metadata": {},
   "source": [
    "## Step-by-step Instruction"
   ]
  },
  {
   "cell_type": "markdown",
   "id": "38b2060d-f165-40c4-8286-d7ad8c7a85aa",
   "metadata": {},
   "source": [
    "For HB-2A, the Bragg diffraction data reduction has been fully automized, and general users only need to follow certain routines to locate the reduced data and fetch them as needed. There are two ways to access the reduced data, via [ONCat](https://oncat.ornl.gov/#/) or the [analysis cluster](https://analysis.sns.gov/). Detailed instructions about how-to for each approach of accessing the data can be found <a href=\"../../pdfs/Data_Reduction_Manual_Mantid_SC_v2.pdf\" target=\"_blank\">here</a>.\n",
    "\n",
    "For both approaches, the data could be found under the specific IPTS directory. On analysis cluster, the data route would be something like `/HFIR/HB2A/IPTS-xxxxx` and via ONCat, the data would be downloaded as a zip package. Once unzipped, a folder with the name of `IPTS-xxxxx` would be obtained, and all the data, including the raw and reduced data, could be found under the `IPTS-xxxx` directory. Located in a certain `IPTS-xxxxx` directory, the raw data can be found in the sub-directory with the name of `expxxx` (`xxx` represents the experiment ID) and in most cases, general users do not need to worry about the raw data. The reduced data could be found under the `shared/autoreduce` sub-folder. Under this sub-folder, there are several types of output that may be of interest. Here follows is the table summarizing the typical output within the `shared/autoreduce` sub-folder,\n",
    "\n",
    "| File/Folder Name | Contents |\n",
    "|------------------|----------|\n",
    "| reduction_log | The reduction log for every single dataset |\n",
    "| HB2A_exp0xxx_scan0001_autoreduced.dat | The reduced data for a singl run, `without` normalization, in XYE format |\n",
    "| HB2A_exp0xxx_scan0001_autoreduced.gss | The reduced data for a singl run, , `without` normalization, in GSS format |\n",
    "| HB2A_exp0xxx_scan0001_autoreduced_norm_time.dat | The reduced data for a singl run, `normalized over collection time`, in XYE format |\n",
    "| HB2A_exp0xxx_scan0001_autoreduced_norm_time.dat | The reduced data for a singl run, `normalized over collection time`, in GSS format |\n",
    "| HB2A_exp0xxx_scan0014-0016_autoreduced_norm_time.dat | The reduced data for a series of similar runs. During the autoreduction procedure, all similar runs (i.e., under same measurement condition, e.g., temperature) will be automatically combined. |\n",
    "| IPTS-31084_summary.csv | Sumamry about current IPTS |"
   ]
  },
  {
   "cell_type": "markdown",
   "id": "15f56eb0-9ca4-45a1-8a3b-be239f378d63",
   "metadata": {},
   "source": [
    "## More Materials"
   ]
  },
  {
   "cell_type": "markdown",
   "id": "4390d9f2-e5c1-4cf8-9ace-c6a249527421",
   "metadata": {},
   "source": [
    "Refer to the user guide available at the HB-2A instrument website, [https://neutrons.ornl.gov/powder/users](https://neutrons.ornl.gov/powder/users)."
   ]
  }
 ],
 "metadata": {
  "kernelspec": {
   "display_name": "Python (default)",
   "language": "python",
   "name": "python3"
  },
  "language_info": {
   "codemirror_mode": {
    "name": "ipython",
    "version": 3
   },
   "file_extension": ".py",
   "mimetype": "text/x-python",
   "name": "python",
   "nbconvert_exporter": "python",
   "pygments_lexer": "ipython3",
   "version": "3.12.4"
  },
  "widgets": {
   "application/vnd.jupyter.widget-state+json": {
    "state": {},
    "version_major": 2,
    "version_minor": 0
   }
  }
 },
 "nbformat": 4,
 "nbformat_minor": 5
}