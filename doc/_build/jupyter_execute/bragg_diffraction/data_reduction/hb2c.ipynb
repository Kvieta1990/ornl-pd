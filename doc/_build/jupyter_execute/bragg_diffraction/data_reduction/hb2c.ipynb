{
 "cells": [
  {
   "cell_type": "markdown",
   "id": "4f267d72-126f-491b-9686-657713ed0f0d",
   "metadata": {},
   "source": [
    "WAND² | HB-2C | HFIR\n",
    "==="
   ]
  },
  {
   "cell_type": "markdown",
   "id": "75149fc4-e43d-49dd-96c5-d74b1e8874d6",
   "metadata": {},
   "source": [
    "## Step-by-step Instruction"
   ]
  },
  {
   "cell_type": "markdown",
   "id": "9a6d4164-309f-4260-9e7e-31d9aa2dbad3",
   "metadata": {},
   "source": [
    "## More Materials"
   ]
  }
 ],
 "metadata": {
  "kernelspec": {
   "display_name": "Python (default)",
   "language": "python",
   "name": "python3"
  },
  "language_info": {
   "codemirror_mode": {
    "name": "ipython",
    "version": 3
   },
   "file_extension": ".py",
   "mimetype": "text/x-python",
   "name": "python",
   "nbconvert_exporter": "python",
   "pygments_lexer": "ipython3",
   "version": "3.10.10"
  },
  "widgets": {
   "application/vnd.jupyter.widget-state+json": {
    "state": {},
    "version_major": 2,
    "version_minor": 0
   }
  }
 },
 "nbformat": 4,
 "nbformat_minor": 5
}