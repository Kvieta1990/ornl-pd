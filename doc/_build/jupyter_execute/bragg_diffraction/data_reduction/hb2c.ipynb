{
 "cells": [
  {
   "cell_type": "markdown",
   "id": "4f267d72-126f-491b-9686-657713ed0f0d",
   "metadata": {},
   "source": [
    "WAND² | HB-2C | HFIR\n",
    "==="
   ]
  },
  {
   "cell_type": "markdown",
   "id": "75149fc4-e43d-49dd-96c5-d74b1e8874d6",
   "metadata": {},
   "source": [
    "## Step-by-step Instruction"
   ]
  },
  {
   "cell_type": "markdown",
   "id": "f81a38c8-e74d-4dc9-a760-ec4ce7766e44",
   "metadata": {},
   "source": [
    "First, one may need to get familiar with the Mantid Workbench framework which will be used for HB-2C powder diffraction data reduction, visualization, and some post-processing. Mantid is commonly used framework for data processing at ORNL and among a few other national facilities around the world. The general user documentation for Mantid framework can be found <a href=\"https://docs.mantidproject.org/nightly/\" target=\"_blank\">here</a>. It is available locally, but users are `strongly recommended` to connect to the <a href=\"https://analysis.sns.gov/\" target=\"_blank\">analysis cluster</a> and the use the installed version of Mantid framework there. The step-by-step instruction for using Mantid with HB-2C data can be found <a href=\"../../pdfs/MantibWorkbench_manual.pdf\" target=\"_blank\">here</a>.\n",
    "\n",
    "The data reduction step-by-step instruction can be found in the HB-2C <a href=\"../../pdfs/HB2C_Powder_reduction.pdf\" target=\"_blank\">powder diffraction data reduction manual</a>.\n",
    "\n",
    "For measurement with certain variables scanning through a continuous range, e.g., temperature, measurement time, etc., one can use the event filtering script provided to perform the event filtering operation to slice across the scanning space of the continuous variable. The script is stored in the shared region under the HB-2C directory on analysis cluster. Detailed instructions about using the script can be found <a href=\"../../pdfs/Manual_for_event_filter.pdf\" target=\"_blank\">here</a>.\n",
    "\n",
    "> Usually, the default script as being used in the instruction above works fine. However, in the case of large number of filtered segments, the overall computational time may reach as long as 1-2 hours, which is not optimal in practice. With this regard, we have created a separate script for performing the event filtering in a parallel manner so the overall computational time could be significantly diminished. The script can be found at `/HFIR/HB2C/shared/WANDscripts/HB2C_filter_parallel.py` and the input section is the same as for the script above."
   ]
  },
  {
   "cell_type": "markdown",
   "id": "9a6d4164-309f-4260-9e7e-31d9aa2dbad3",
   "metadata": {},
   "source": [
    "## More Materials"
   ]
  },
  {
   "cell_type": "markdown",
   "id": "f276ab3f-94ea-4bfa-9e6f-a559abac7fd3",
   "metadata": {},
   "source": [
    "Refer to the user guide available at the HB-2A instrument website, [https://neutrons.ornl.gov/wand/users](https://neutrons.ornl.gov/wand/users)."
   ]
  },
  {
   "cell_type": "markdown",
   "id": "e69e700a-eeb9-41aa-ae8b-20ba54fce0dd",
   "metadata": {},
   "source": [
    "## Data Reduction Principle"
   ]
  },
  {
   "cell_type": "markdown",
   "id": "977a9e6e-8dc7-4b02-a2e0-6d2987cff4e7",
   "metadata": {},
   "source": [
    "A high level flowchart summarizing the overall powder diffration data reduction workflow for WAND² is presented as below,\n",
    "\n",
    "<img src=\"../../imgs/WAND2_PD_Red.png\" alt=\"drawing\" width=\"800\"/>\n",
    "\n",
    "Mantid framework is used here for the reduction and one can refer to the Mantid documentation for the information of all the relevant algorithms [here](https://docs.mantidproject.org/v6.7.0/algorithms/WANDPowderReduction-v1.html).\n",
    "\n",
    "Several key aspects that are worth noting,\n",
    "\n",
    "1. For the `Merge mask` step (see one of the blue nodes above), all the relevant masks were merged, including the manually provided mask (if existing), the already existing mask in the workspace, and the mask to be generated according to the mask angle range (if existing).\n",
    "\n",
    "2. For the `Merge duplicates` step (see one of the blue nodes above), adjacent detectors with identical scattering angle value will be merged together.\n",
    "\n",
    "3. One should notice that there are several spots in the flowchart where the `Filtered input` statement is appearing. When the processed workspaces were obtained via event filtering, we need some special care to make sure the consistency in the reduced data so that they are directly comparable. Basically, we want to make sure the masks being used for all the filtered workspaces is identical.\n",
    "\n",
    "4. Given the current implementation of the reduction routine, we do require that the masks for data, calibration (vanadium measurement for normalization purpose), and the background should be identical. This requires one to perform cross masking all the relevant workspaces before feeding them into the data reduction routine.\n",
    "\n",
    "5. At the final summing stage (if specified to), if the `MultiplyBySpectra` parameter (see the documentation [here](https://docs.mantidproject.org/v6.7.0/algorithms/WANDPowderReduction-v1.html) for details) is set to `False`, the average will be calculated for all the spectra involved."
   ]
  }
 ],
 "metadata": {
  "kernelspec": {
   "display_name": "Python (default)",
   "language": "python",
   "name": "python3"
  },
  "language_info": {
   "codemirror_mode": {
    "name": "ipython",
    "version": 3
   },
   "file_extension": ".py",
   "mimetype": "text/x-python",
   "name": "python",
   "nbconvert_exporter": "python",
   "pygments_lexer": "ipython3",
   "version": "3.10.10"
  },
  "widgets": {
   "application/vnd.jupyter.widget-state+json": {
    "state": {},
    "version_major": 2,
    "version_minor": 0
   }
  }
 },
 "nbformat": 4,
 "nbformat_minor": 5
}