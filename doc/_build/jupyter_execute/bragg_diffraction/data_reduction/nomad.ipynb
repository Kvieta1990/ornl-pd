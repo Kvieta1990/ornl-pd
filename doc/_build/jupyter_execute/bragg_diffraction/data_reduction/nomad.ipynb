{
 "cells": [
  {
   "cell_type": "markdown",
   "id": "abaf3017-b812-4524-bf94-b474c341cdbd",
   "metadata": {},
   "source": [
    "NOMAD | BL-1B | SNS\n",
    "==="
   ]
  },
  {
   "cell_type": "markdown",
   "id": "f09f47d0-4254-4483-9b2f-c5b3a47ea9e7",
   "metadata": {},
   "source": [
    "## Step-by-step Instruction"
   ]
  },
  {
   "cell_type": "markdown",
   "id": "f6655200-76bd-483c-8c81-089c7f8a58cb",
   "metadata": {},
   "source": [
    "## More Materials"
   ]
  }
 ],
 "metadata": {
  "kernelspec": {
   "display_name": "Python (default)",
   "language": "python",
   "name": "python3"
  },
  "language_info": {
   "codemirror_mode": {
    "name": "ipython",
    "version": 3
   },
   "file_extension": ".py",
   "mimetype": "text/x-python",
   "name": "python",
   "nbconvert_exporter": "python",
   "pygments_lexer": "ipython3",
   "version": "3.10.10"
  },
  "widgets": {
   "application/vnd.jupyter.widget-state+json": {
    "state": {},
    "version_major": 2,
    "version_minor": 0
   }
  }
 },
 "nbformat": 4,
 "nbformat_minor": 5
}