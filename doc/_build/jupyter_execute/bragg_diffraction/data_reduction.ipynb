{
 "cells": [
  {
   "cell_type": "markdown",
   "id": "22fa7c40-f6e9-4e09-90cb-e41415a57d6a",
   "metadata": {},
   "source": [
    "Data Reduction\n",
    "==="
   ]
  },
  {
   "cell_type": "markdown",
   "id": "cf8e36ee-aeca-453b-a2dc-6ec761ed3519",
   "metadata": {},
   "source": [
    "## NOMAD"
   ]
  },
  {
   "cell_type": "markdown",
   "id": "1a771eb8-44ec-4e2e-92fd-494916019dc3",
   "metadata": {},
   "source": [
    "## POWGEN\n",
    "\n",
    "### Advanced Setup\n",
    "\n",
    "This tab of the GUI is for hosting some advanced configurations for the data reduction, as can be glimpsed from the following snapshot,\n",
    "\n",
    "<img src=\"../imgs/pg3_adv_setup.png\" alt=\"drawing\" width=\"800\"/>\n",
    "\n",
    "... ***Put items worth of special mentioning here*** ...\n",
    "\n",
    "### Absorption Correction\n",
    "\n",
    "This section is for setting up the absorption correction, given some basic inputs about the sample under the beam. The required inputs are `Sample Formula`, `Measured Mass Density`, `Container Type`, and `Type of Correction` for general samples, together with the `Vanadium Rod Radius` for vanadium correction. The ``Sample Formula`` input should be following a certain format, typically like this,`Yb2-Ti2-O7`. The `Measured Mass Density` refers to literally the measured mass density given in `g/cc`. The `Number Density` refers to the theoretical number density of the sample, in the unit of $Å^{-3}$ -- it can be obtained from, e.g., a CIF file for the crystallographic structure of the sample. With both the `Measured Mass Density` and `Number Density` present, the `Packing Fraction` will be calculated and the corresponding box will be populated with the calculated value automatically - thus the input box for `Packing Fraction` is not editable. The `Container Type` dropdown menu is for specifying the geometry of both the container and the sample, which is needed for the absorption calculation. Instead of manual input for the geometry information (container inner, outer radius, and container height), a dropdown list is provided for all the typically used containers on POWGEN, where general users could select according to which of those containers were being used for their experiments. The `Type of Correction` dropdown is a list of alternative methods for the absorption correction. Here, details about those different methods will not be covered, and interested readers could refer to the documentation page located at [https://docs.mantidproject.org/v6.5.0/concepts/AbsorptionAndMultipleScattering.html](https://docs.mantidproject.org/v6.5.0/concepts/AbsorptionAndMultipleScattering.html). The `Vanadium Rod Radius` entry is literally for providing the radius of the vanadium rod being used for normalization purpose. The `Sample Height` (given in `cm`) entry is optional -- if it is not given, the program will try to read the value in from the sample log (embedded in the saved raw data of the measurement in NeXus format).\n",
    "\n",
    "Here, it is also worth mentioning the `Caching Options` in the middle of the GUI interface presented above -- it is for caching the absorption calculations. For a specific sample associated with specific geometry and among other configurations (which one would set up following the instruction above), the absorption calculation only needs to be performed once, and any further data reduction associated with the identical setup of the sample should be able to use the already performed absorption calculation. A typical use case is the absorption correction for a series of temperature measurement for the same sample, for which we should not repeat the absorption calculation which is computationally heavy.\n",
    "\n",
    "> Coder Notes\n",
    "\n",
    "> - The justification of the unit being used for `Sample Height` entry can be found [here](https://github.com/mantidproject/mantid/blob/30ae7e8b9eae12f8bbc091c2fa48569dcf2849c3/Testing/SystemTests/tests/framework/SNSPowderRedux.py#L511https://github.com/mantidproject/mantid/blob/30ae7e8b9eae12f8bbc091c2fa48569dcf2849c3/Testing/SystemTests/tests/framework/SNSPowderRedux.py#L511) and [here](https://github.com/mantidproject/mantid/blob/main/docs/source/algorithms/SetSampleFromLogs-v1.rsthttps://github.com/mantidproject/mantid/blob/main/docs/source/algorithms/SetSampleFromLogs-v1.rst).\n",
    "> - The PR for adding in the `Sample Height` entry in the POWGEN GUI can be found [here](https://github.com/mantidproject/mantid/pull/33056https://github.com/mantidproject/mantid/pull/33056) and another relevant PR concerning the sample height implementation is [here](https://github.com/mantidproject/mantid/pull/31902https://github.com/mantidproject/mantid/pull/31902)."
   ]
  },
  {
   "cell_type": "markdown",
   "id": "822b1a39-27d5-432a-b896-23bed2997adf",
   "metadata": {},
   "source": [
    "## POWDER | HB-2A"
   ]
  },
  {
   "cell_type": "markdown",
   "id": "601ef6cf-ba26-4042-89c8-ad5e4b3c6d0d",
   "metadata": {},
   "source": [
    "## WAND$^2$ | HB-2C"
   ]
  }
 ],
 "metadata": {
  "kernelspec": {
   "display_name": "Python (default)",
   "language": "python",
   "name": "python3"
  },
  "language_info": {
   "codemirror_mode": {
    "name": "ipython",
    "version": 3
   },
   "file_extension": ".py",
   "mimetype": "text/x-python",
   "name": "python",
   "nbconvert_exporter": "python",
   "pygments_lexer": "ipython3",
   "version": "3.10.10"
  },
  "widgets": {
   "application/vnd.jupyter.widget-state+json": {
    "state": {},
    "version_major": 2,
    "version_minor": 0
   }
  }
 },
 "nbformat": 4,
 "nbformat_minor": 5
}