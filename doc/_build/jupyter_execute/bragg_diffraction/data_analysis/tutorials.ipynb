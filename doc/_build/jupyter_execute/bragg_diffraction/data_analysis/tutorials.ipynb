{
 "cells": [
  {
   "cell_type": "markdown",
   "id": "09f976d4-9c81-4199-ac71-e88a5fb2f546",
   "metadata": {},
   "source": [
    "Tutorials & Workshops\n",
    "==="
   ]
  },
  {
   "cell_type": "markdown",
   "id": "76b8873e-6b27-4d42-bf00-b0a6328300c2",
   "metadata": {},
   "source": [
    "## General"
   ]
  },
  {
   "cell_type": "markdown",
   "id": "e833bbcf-ecaa-491b-a57d-dd116973fa58",
   "metadata": {},
   "source": [
    "- Modern Methods in Rietveld Refinement and Structural Analysis (MMRRSA) School. Exercises on refining X-ray and neutron Bragg diffraction data are available. See the link [here](https://sites.google.com/a/stonybrook.edu/mmrrsa-portal/past).\n",
    "\n",
    "- The TOPAS tutorial series by John Evans, et al. See the link [here](https://topas.webspace.durham.ac.uk/ta-tutorials/)."
   ]
  },
  {
   "cell_type": "markdown",
   "id": "3192c01c-8672-486b-a796-01366dbbb452",
   "metadata": {},
   "source": [
    "## Instrument Specific"
   ]
  },
  {
   "cell_type": "markdown",
   "id": "eb600684-f053-418a-8916-ea3e5c818633",
   "metadata": {},
   "source": [
    "### POWDER (HB-2A) & WAND$^2$ (HB-2C), HFIR"
   ]
  },
  {
   "cell_type": "markdown",
   "id": "756a705f-8a27-4584-8f94-ac0e846e8fd1",
   "metadata": {},
   "source": [
    "| Software | Tutorial |\n",
    "|----------|----------|\n",
    "| FullProf | <a href=\"https://www.dropbox.com/s/hurwujmj4n6fcl9/Rietveld%20Refinement%20using%20Fiullprof%20for%20Novice%20Users.pptx?dl=0\" target=\"_blank\">Rietveld Refinement of HB-2A Data Using FullProf Software</a> |\n",
    "\n",
    "For `magnetic structure refinement`, detailed lecture notes and step-by-step examples with data can be found on the following workshop websites,\n",
    "\n",
    "- [Magnetic structure determination examples (2022)](https://conference.sns.gov/event/339/page/2464-tutorial-example)\n",
    "\n",
    "- [Lecture notes and examples from 2019 workshop](https://conference.sns.gov/event/176/page/1293-magnetic-structure-school-presentations)\n",
    "\n",
    "- [Lecture Notes (2016 workshop)](https://conference.sns.gov/event/22/)"
   ]
  },
  {
   "cell_type": "markdown",
   "id": "ce3adeb6-1710-46bb-b0c6-2c1e9ae022a7",
   "metadata": {},
   "source": [
    "### NOMAD (BL-1B), SNS"
   ]
  },
  {
   "cell_type": "markdown",
   "id": "5dc70a94-de36-44bb-ade3-5756df61c2a5",
   "metadata": {},
   "source": [
    "| Software | Tutorial |\n",
    "|----------|----------|\n",
    "| FullProf | <a href=\"https://www.youtube.com/watch?v=JkiaSCcCF7o\" target=\"_blank\">Fitting-Data-in-Fullprof</a> |\n",
    "| GSAS & EXPGUI | <a href=\"https://www.youtube.com/watch?v=g7SRhrToET8\" target=\"_blank\">Fitting-Data-in-GSAS</a> |\n",
    "| GSAS-II | <a href=\"https://www.youtube.com/watch?v=0CMCtFwijow\" target=\"_blank\">Fitting-Data-GSAS-II</a> |\n",
    "| TOPAS | <a href=\"https://www.youtube.com/watch?v=2TsX8wwD5ro\" target=\"_blank\">Fitting-Data-in-TOPAS</a> |\n",
    "| JANA2006 | <a href=\"https://www.youtube.com/watch?v=UMDgbxOTR7g\" target=\"_blank\">Fitting-Data-in-JANA2006-Bank4 Fitting Data-in-Jana2006-Fourbanks</a> |"
   ]
  },
  {
   "cell_type": "markdown",
   "id": "c6160ec5-c965-4bcb-8dfc-b6167a1f0034",
   "metadata": {},
   "source": [
    "### POWGEN (BL-11A), SNS"
   ]
  },
  {
   "cell_type": "markdown",
   "id": "cc4233d3-f5f0-4938-8d67-2755bc0aa49a",
   "metadata": {},
   "source": [
    "| Software | Tutorial | Author |\n",
    "|----------|----------|--------|\n",
    "| Mantid | <a href=\"https://www.dropbox.com/s/fglfzpzlv1h7ixl/mantid_tutorial.mp4?dl=0\" target=\"_blank\">Mantid Tutorial - Finding Structural Change from Event Data</a> | Peter Peterson |\n",
    "| FullProf | <a href=\"../../pdfs/Fullprof2bankrefinement.pdf\" target=\"_blank\">Fullprof refinement example</a> | - |\n",
    "| GSAS & EXPGUI | <a href=\"../../pdfs/POWGEN-gsas-2banks.pdf\" target=\"_blank\">GSAS/EXPGUI refinement example</a> | - |\n",
    "| GSAS-II | <a href=\"https://subversion.xray.aps.anl.gov/pyGSAS/Tutorials/TOF-CW%20Joint%20Refinement/TOF%20combined%20XN%20Rietveld%20refinement%20in%20GSAS.htm\" target=\"_blank\">GSAS-II joint X-ray/neutron refinement using 11BM and POWGEN data</a> | Toby & Bob |\n",
    "| TOPAS | <a href=\"../../pdfs/Refining-POWGEN-data-TOPAS_040617.pdf\" target=\"_blank\">TOPAS refinement example</a> | - |"
   ]
  }
 ],
 "metadata": {
  "kernelspec": {
   "display_name": "Python (default)",
   "language": "python",
   "name": "python3"
  },
  "language_info": {
   "codemirror_mode": {
    "name": "ipython",
    "version": 3
   },
   "file_extension": ".py",
   "mimetype": "text/x-python",
   "name": "python",
   "nbconvert_exporter": "python",
   "pygments_lexer": "ipython3",
   "version": "3.7.16"
  },
  "widgets": {
   "application/vnd.jupyter.widget-state+json": {
    "state": {},
    "version_major": 2,
    "version_minor": 0
   }
  }
 },
 "nbformat": 4,
 "nbformat_minor": 5
}