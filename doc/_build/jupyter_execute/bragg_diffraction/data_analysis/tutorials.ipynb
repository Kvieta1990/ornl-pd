{
 "cells": [
  {
   "cell_type": "markdown",
   "id": "09f976d4-9c81-4199-ac71-e88a5fb2f546",
   "metadata": {},
   "source": [
    "Tutorials for Bragg Diffraction Data Analysis\n",
    "==="
   ]
  },
  {
   "cell_type": "markdown",
   "id": "76b8873e-6b27-4d42-bf00-b0a6328300c2",
   "metadata": {},
   "source": [
    "## General"
   ]
  },
  {
   "cell_type": "markdown",
   "id": "3192c01c-8672-486b-a796-01366dbbb452",
   "metadata": {},
   "source": [
    "## Instrument Specific"
   ]
  },
  {
   "cell_type": "markdown",
   "id": "eb600684-f053-418a-8916-ea3e5c818633",
   "metadata": {},
   "source": [
    "### POWDER | HB-2A & WAND$^2$ | HB-2C, HFIR"
   ]
  },
  {
   "cell_type": "markdown",
   "id": "ce3adeb6-1710-46bb-b0c6-2c1e9ae022a7",
   "metadata": {},
   "source": [
    "### NOMAD | BL-1B, SNS"
   ]
  },
  {
   "cell_type": "markdown",
   "id": "c6160ec5-c965-4bcb-8dfc-b6167a1f0034",
   "metadata": {},
   "source": [
    "### POWGEN | BL-11A, SNS"
   ]
  }
 ],
 "metadata": {
  "kernelspec": {
   "display_name": "Python (default)",
   "language": "python",
   "name": "python3"
  },
  "language_info": {
   "codemirror_mode": {
    "name": "ipython",
    "version": 3
   },
   "file_extension": ".py",
   "mimetype": "text/x-python",
   "name": "python",
   "nbconvert_exporter": "python",
   "pygments_lexer": "ipython3",
   "version": "3.10.10"
  },
  "widgets": {
   "application/vnd.jupyter.widget-state+json": {
    "state": {},
    "version_major": 2,
    "version_minor": 0
   }
  }
 },
 "nbformat": 4,
 "nbformat_minor": 5
}