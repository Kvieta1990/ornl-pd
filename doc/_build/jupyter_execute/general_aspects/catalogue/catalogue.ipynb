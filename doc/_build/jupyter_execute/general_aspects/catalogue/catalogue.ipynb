{
 "cells": [
  {
   "cell_type": "markdown",
   "id": "3634c0f9-76e5-48d9-9fbb-b4d9184f45ac",
   "metadata": {},
   "source": [
    "Data Catalog\n",
    "==="
   ]
  },
  {
   "cell_type": "markdown",
   "id": "00cc7a62",
   "metadata": {},
   "source": [
    "Catalog for the neutron data collected at ORNL is available in the ONCAT database which can be accessed through the web interface at [https://oncat.ornl.gov](https://oncat.ornl.gov). Here, we will put down some useful features of the catalog system."
   ]
  },
  {
   "cell_type": "markdown",
   "id": "d953e0d0",
   "metadata": {},
   "source": [
    "- Filter by run ID, etc."
   ]
  },
  {
   "cell_type": "code",
   "execution_count": 1,
   "id": "5cf8b98d-9b15-496e-85e4-4c70045dba64",
   "metadata": {
    "execution": {
     "iopub.execute_input": "2023-10-12T16:59:43.949116Z",
     "iopub.status.busy": "2023-10-12T16:59:43.948121Z",
     "iopub.status.idle": "2023-10-12T16:59:44.142660Z",
     "shell.execute_reply": "2023-10-12T16:59:44.142016Z",
     "shell.execute_reply.started": "2023-10-12T16:59:43.949089Z"
    },
    "tags": []
   },
   "outputs": [
    {
     "data": {
      "text/html": [
       "<video src=\"../../imgs/oncat_filter.mp4\" controls  width=\"1000\" >\n",
       "      Your browser does not support the <code>video</code> element.\n",
       "    </video>"
      ],
      "text/plain": [
       "<IPython.core.display.Video object>"
      ]
     },
     "execution_count": 1,
     "metadata": {},
     "output_type": "execute_result"
    }
   ],
   "source": [
    "from IPython.display import Video\n",
    "\n",
    "Video(\"../../imgs/oncat_filter.mp4\", width=1000)"
   ]
  }
 ],
 "metadata": {
  "kernelspec": {
   "display_name": "Python 3",
   "language": "python",
   "name": "python3"
  },
  "language_info": {
   "codemirror_mode": {
    "name": "ipython",
    "version": 3
   },
   "file_extension": ".py",
   "mimetype": "text/x-python",
   "name": "python",
   "nbconvert_exporter": "python",
   "pygments_lexer": "ipython3",
   "version": "3.10.14"
  },
  "widgets": {
   "application/vnd.jupyter.widget-state+json": {
    "state": {},
    "version_major": 2,
    "version_minor": 0
   }
  }
 },
 "nbformat": 4,
 "nbformat_minor": 5
}