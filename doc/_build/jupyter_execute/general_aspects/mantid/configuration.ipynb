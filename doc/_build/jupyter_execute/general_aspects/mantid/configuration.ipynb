{
 "cells": [
  {
   "cell_type": "markdown",
   "id": "3634c0f9-76e5-48d9-9fbb-b4d9184f45ac",
   "metadata": {},
   "source": [
    "Mantid Configuration\n",
    "==="
   ]
  },
  {
   "cell_type": "markdown",
   "id": "00cc7a62",
   "metadata": {},
   "source": [
    "The `Mantid` framework is often used for powder diffraction beamlines at ORNL for data processing and other general purposes. Here in this page, we are posting some useful configurations for `Mantid` (the Python interface or `Mantid Workbench`).\n",
    "\n",
    "On ORNL Analysis, the Python interface for the Mantid framework can be access on terminal via `mantidpython`, `mantidpythonqa` or `mantidpythonnightly`, for the production release version, the release candidate and the nightly development version, respectively. Similarly for the `Mantid Workbench`, the launching commands are `mantidworkbench`, `mantidworkbenchqa` and `mantidworkbenchnightly`.\n",
    "\n",
    "In case of the central deployed versions mentioned above are not working properly, one can temporarily use the local version deployed in the local conda environment of [Dr. Yuanpeng Zhang](https://www.ornl.gov/staff-profile/yuanpeng-zhang). For `Mantid Workbench`, the command to execute would be `mantidl` (see also [here](https://powder.ornl.gov/data_tools/general.html#mantidl).) For the Python interface, there is no local version yet. If needed, please get in touch with [Dr. Yuanpeng Zhang](https://www.ornl.gov/staff-profile/yuanpeng-zhang) so I can set it up. One can also refer to the instructions [here](https://powder.ornl.gov/collections/local_envs.html#mantidtotalscattering) if they want to set this up on their own."
   ]
  },
  {
   "cell_type": "markdown",
   "id": "6b0a31d7",
   "metadata": {},
   "source": [
    "## Data Plot Setting"
   ]
  },
  {
   "cell_type": "markdown",
   "id": "dbd6ac7b",
   "metadata": {},
   "source": [
    "In Mantid, for data plotting, we have an option to control whether or not to normalize the data at the plotting time. This is an option applied at the data plotting time, meaning that the data is not changed at all but only the visualization is changed. What this option does is to normalize the data by bin width for the plotting purpose. This option applies when plotting histogram data and through the normalization at the plotting time, the data presented in the plot would be converted to a distribution data, i.e., the bin width is divided out. If the data to be plotted is already a distribution data and we still have this option active, the already bin-width-normalized data will be divided by the bin width again, causing some weird behavior in the data presentation. For GSAS data, the stored data in the file would be histogram data. When Mantid loads in the data with, e.g., LoadGSS algorithm, the histogram data would be converted to distribution data automatically. Though, it should be noticed that the generated workspace would still say that the data is not a distribution data. In this case, if we still apply the option for bin width normalization at the plotting time, we would have the double division issue. Since we are having a logarithmic binning for the time-of-flight data, the bin width goes smaller and smaller as approaching the low TOF region. Therefore, the data got divided by a smaller and smaller number as approaching the low-TOF region, causing the background rocketing that we visually see while plotting.\n",
    "\n",
    "```{admonition} Notes on GSAS-II and Topas\n",
    ":class: hint\n",
    "\n",
    "GSAS-II and Topas are two typical software used for diffraction data analysis and they are perfect examples for demonstrating the attention one may need to pay regarding the data being in the histogram or distribution mode. `GSAS-II takes in histogram data` and it will convert the data into the distribution form, i.e., dividing the data by the bin width, internally. So, if one sees the data scaling being different between a direct plot of the Bragg data file in the GSAS form and the one inside GSAS-II, it should not come as a surprise. `Topas instead takes in distribution data` and therefore it is assuming the data it loads in should already be in the distribution form. If not, Topas will anyhow treat the data as a distribution data, which then for sure will cause problems in the data fitting. \n",
    "```\n",
    "\n",
    "In the following video, I will demonstrate how to turn on/off the option in `Mantid Workbench`."
   ]
  },
  {
   "cell_type": "code",
   "execution_count": 1,
   "id": "5cf8b98d-9b15-496e-85e4-4c70045dba64",
   "metadata": {
    "execution": {
     "iopub.execute_input": "2023-10-12T16:59:43.949116Z",
     "iopub.status.busy": "2023-10-12T16:59:43.948121Z",
     "iopub.status.idle": "2023-10-12T16:59:44.142660Z",
     "shell.execute_reply": "2023-10-12T16:59:44.142016Z",
     "shell.execute_reply.started": "2023-10-12T16:59:43.949089Z"
    },
    "tags": []
   },
   "outputs": [
    {
     "data": {
      "image/jpeg": "[encoded data removed]",
      "text/html": [
       "\n",
       "        <iframe\n",
       "            width=\"720\"\n",
       "            height=\"500\"\n",
       "            src=\"https://www.youtube.com/embed/YuG2ay69r1g\"\n",
       "            frameborder=\"0\"\n",
       "            allowfullscreen\n",
       "            \n",
       "        ></iframe>\n",
       "        "
      ],
      "text/plain": [
       "<IPython.lib.display.YouTubeVideo at 0x1f9232b9750>"
      ]
     },
     "execution_count": 1,
     "metadata": {},
     "output_type": "execute_result"
    }
   ],
   "source": [
    "from IPython.display import YouTubeVideo\n",
    "YouTubeVideo('YuG2ay69r1g', width=720, height=500)"
   ]
  }
 ],
 "metadata": {
  "kernelspec": {
   "display_name": "base",
   "language": "python",
   "name": "python3"
  },
  "language_info": {
   "codemirror_mode": {
    "name": "ipython",
    "version": 3
   },
   "file_extension": ".py",
   "mimetype": "text/x-python",
   "name": "python",
   "nbconvert_exporter": "python",
   "pygments_lexer": "ipython3",
   "version": "3.10.14"
  },
  "widgets": {
   "application/vnd.jupyter.widget-state+json": {
    "state": {},
    "version_major": 2,
    "version_minor": 0
   }
  }
 },
 "nbformat": 4,
 "nbformat_minor": 5
}