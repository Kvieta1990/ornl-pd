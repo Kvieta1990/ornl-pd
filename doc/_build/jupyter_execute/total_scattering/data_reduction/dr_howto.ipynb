{
 "cells": [
  {
   "cell_type": "markdown",
   "id": "22fa7c40-f6e9-4e09-90cb-e41415a57d6a",
   "metadata": {},
   "source": [
    "Data Reduction How-to\n",
    "==="
   ]
  }
 ],
 "metadata": {
  "kernelspec": {
   "display_name": "Python (default)",
   "language": "python",
   "name": "python3"
  },
  "language_info": {
   "codemirror_mode": {
    "name": "ipython",
    "version": 3
   },
   "file_extension": ".py",
   "mimetype": "text/x-python",
   "name": "python",
   "nbconvert_exporter": "python",
   "pygments_lexer": "ipython3",
   "version": "3.10.10"
  },
  "widgets": {
   "application/vnd.jupyter.widget-state+json": {
    "state": {},
    "version_major": 2,
    "version_minor": 0
   }
  }
 },
 "nbformat": 4,
 "nbformat_minor": 5
}