{
 "cells": [
  {
   "cell_type": "markdown",
   "id": "9f5bfd59-1c97-41a3-b723-188079807d4a",
   "metadata": {},
   "source": [
    "# Absorption and Multiple Scattering Correction"
   ]
  },
  {
   "cell_type": "markdown",
   "id": "b7473260-c9e2-4f72-b920-da6915f06786",
   "metadata": {},
   "source": [
    "## Introduction\n",
    "\n",
    "### General aspects\n",
    "\n",
    "When neutrons travel into the sample, there are multiple types of events that can happen, and two typical ones are scattering and absorption. Specifically concerning the scattering event, there are also two types -- single scattering and multiple scattering. Fundamentally, it is only the single scattering event that we are concerned about for extracting structural information, in a general sense. Therefore, in practice, we need to correct for both the absorption and multiple scattering effects. With this regard, the Mantid concept page as in Ref. presents a nice summary about the undelying principles and the practical implementation in Mantid framework. On top of that, the derivation of the Paalman-Pings scheme for the absorption correction is detailed below. First, the complete expression of the full Paalman-Pings formulation is as follows,\n",
    "\n",
    "$$\\begin{align}I_{S+C}^{E} = I_{S}A_{S,SC} + I_{C}A_{C,SC} + I_{SC}A_{SC,SC}\\tag{1}\\end{align}$$\n",
    "\n",
    "where,\n",
    "\n",
    "- $S$ for sample, $C$ for container\n",
    "\n",
    "- $I_{S+C}^{E}$ experimentally measured intensity from $S+C$.\n",
    "\n",
    "- $I_S$ theoretical intensity from the isolated sample.\n",
    "\n",
    "- $I_C$ theoretical intensity from the isolated container.\n",
    "\n",
    "- $I_{SC}$ theoretical intensity from the correlated sample and container interface.\n",
    "\n",
    "- $A_{S,SC}$ is the absorption factor for scattering in the sample region and absorption by the sample and container.\n",
    "\n",
    "- $A_{C,SC}$ is the absorption factor for scattering in the container region and absorption by the sample and container.\n",
    "\n",
    "- $A_{AC,SC}$ is the absorption factor for scattering in the correlated sample and container interface and absorption by the sample and container.\n",
    "\n",
    "Ignoring the contribution from the correlated interface between the sample and container, the exression can be simplified to,\n",
    "\n",
    "$$\\begin{align}I_{S+C}^{E} = I_{S}A_{S,SC} + I_{C}A_{C,SC}\\tag{2}\\end{align}$$\n",
    "\n",
    "For the empty container measurement, one has,\n",
    "\n",
    "$$I_C^E = I_CA_{C,C} \\Rightarrow I_C = \\frac{1}{A_{C,C}}I_C^E\\tag{3}$$\n",
    "\n",
    "where,\n",
    "\n",
    "- $I_C^E$ experimentally measured intensity from $S+C$experimentally measured intensity from $C$.\n",
    "\n",
    "- $A_{C,C}$ is the absorption factor for scattering in the container region and absorption by the container.\n",
    "\n",
    "Putting Eqn. (2) and (3) together, one could obtain,\n",
    "\n",
    "$$I_{S+C}^E = I_SA_{S,SC} + \\frac{A_{C,SC}}{A_{C,C}}I_C^E \\Rightarrow I_S = \\frac{1}{A_{S,SC}}I_{S+C}^E - \\frac{A_{C,SC}}{A_{S,SC}}\\frac{1}{A_{C,C}}I_C^E$$\n",
    "\n",
    "Following such a scheme, the absorption coefficients (i.e., those $A$'s) can be evaluated in a numerical integration approach and applied to the experimentally measured intensities to correct for the absorption effect as detailed above."
   ]
  },
  {
   "cell_type": "markdown",
   "id": "9decf385-9f08-4e89-ae59-ed369eb98c49",
   "metadata": {},
   "source": [
    "## Notes on Multiple Scattering Correction Implementation\n",
    "\n",
    "- Put down the contents in the overleaf doc located at [https://latex.ornl.gov/project/6144f47987c0cd00b83846d9](https://latex.ornl.gov/project/6144f47987c0cd00b83846d9)"
   ]
  }
 ],
 "metadata": {
  "kernelspec": {
   "display_name": "Python (default)",
   "language": "python",
   "name": "python3"
  },
  "language_info": {
   "codemirror_mode": {
    "name": "ipython",
    "version": 3
   },
   "file_extension": ".py",
   "mimetype": "text/x-python",
   "name": "python",
   "nbconvert_exporter": "python",
   "pygments_lexer": "ipython3",
   "version": "3.10.10"
  },
  "widgets": {
   "application/vnd.jupyter.widget-state+json": {
    "state": {},
    "version_major": 2,
    "version_minor": 0
   }
  }
 },
 "nbformat": 4,
 "nbformat_minor": 5
}