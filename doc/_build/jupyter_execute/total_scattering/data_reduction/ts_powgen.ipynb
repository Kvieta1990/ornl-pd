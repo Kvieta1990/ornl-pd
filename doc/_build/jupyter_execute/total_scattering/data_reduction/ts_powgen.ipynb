{
 "cells": [
  {
   "cell_type": "markdown",
   "id": "ee36f847-e9b6-49a6-a96f-1c1873723c1c",
   "metadata": {},
   "source": [
    "For POWGEN Users\n",
    "==="
   ]
  },
  {
   "cell_type": "markdown",
   "id": "a9c260fa-a930-4c93-8930-8d28a9c68ec7",
   "metadata": {},
   "source": [
    "## Notes"
   ]
  },
  {
   "cell_type": "markdown",
   "id": "8de1cac3-758d-44c1-9e29-101ecb0728bb",
   "metadata": {},
   "source": [
    "## Instruction"
   ]
  }
 ],
 "metadata": {
  "kernelspec": {
   "display_name": "Python (default)",
   "language": "python",
   "name": "python3"
  },
  "language_info": {
   "codemirror_mode": {
    "name": "ipython",
    "version": 3
   },
   "file_extension": ".py",
   "mimetype": "text/x-python",
   "name": "python",
   "nbconvert_exporter": "python",
   "pygments_lexer": "ipython3",
   "version": "3.10.14"
  },
  "widgets": {
   "application/vnd.jupyter.widget-state+json": {
    "state": {},
    "version_major": 2,
    "version_minor": 0
   }
  }
 },
 "nbformat": 4,
 "nbformat_minor": 5
}