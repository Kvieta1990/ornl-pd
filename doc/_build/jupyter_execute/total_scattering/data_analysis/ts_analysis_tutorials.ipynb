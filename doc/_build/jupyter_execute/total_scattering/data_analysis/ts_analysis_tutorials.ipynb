{
 "cells": [
  {
   "cell_type": "markdown",
   "id": "91b91755-04c0-4cc3-9a45-954cb05a6e0f",
   "metadata": {},
   "source": [
    "Tutorials\n",
    "==="
   ]
  }
 ],
 "metadata": {
  "kernelspec": {
   "display_name": "Python (default)",
   "language": "python",
   "name": "python3"
  },
  "language_info": {
   "codemirror_mode": {
    "name": "ipython",
    "version": 3
   },
   "file_extension": ".py",
   "mimetype": "text/x-python",
   "name": "python",
   "nbconvert_exporter": "python",
   "pygments_lexer": "ipython3",
   "version": "3.10.10"
  },
  "widgets": {
   "application/vnd.jupyter.widget-state+json": {
    "state": {},
    "version_major": 2,
    "version_minor": 0
   }
  }
 },
 "nbformat": 4,
 "nbformat_minor": 5
}