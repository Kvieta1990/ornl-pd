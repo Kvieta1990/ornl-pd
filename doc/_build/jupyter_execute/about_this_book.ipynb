{
 "cells": [
  {
   "cell_type": "markdown",
   "id": "d7a25153-2679-4c89-bcaa-1843e6f8e315",
   "metadata": {},
   "source": [
    "About this book\n",
    "===\n",
    "\n",
    "This book was generated with the [Jupyter book](https://jupyterbook.org/en/stable/intro.html) technology is for hosting the comprehensive introduction about the powder diffraction at ORNL. It covers a wide range from the underlying principles and tools available for data reduction, tutorials & demonstration for performing data reduction, to useful information and necessary input files from instruments for performing the powder diffraction data analysis.\n",
    "\n",
    "With the [Jupyter book](https://jupyterbook.org/en/stable/intro.html) technology, the book could be generated from simple markdown (a simple language for generating HTML-like formatted web contents) files, and more interestingly (and importantly), from Jupyter notebooks. With Jupyter notebooks, the generated web page can be made interactive so that one does not have to leave the page to execute a certain snippet of codes. Such a binding technology makes the book both knowledge and interactivity oriented, so that readers can read about the contents and play around with the underlying operations, at the same time and in the same scope.\n",
    "\n",
    "How to use this book\n",
    "===\n",
    "\n",
    "![page demo](./imgs/page_demo.png)\n",
    "\n",
    "This book is just a normal web page on the users end and viewing the contents of the book is of no difference as compared to viewing any static website. As presented in the image above, \\#1 on the left hand side of the page is the table of contents of the book and one can use it for quickly navigating across the book. \\#2 on the right hand side is the contents structure of the current page. \\#3 on the top of all pages in the book hosts some useful operations of the book, as detailed below,"
   ]
  },
  {
   "cell_type": "markdown",
   "id": "ee0b1b1c-51e6-4a2e-bda3-8ed74fa193c3",
   "metadata": {},
   "source": [
    "![launcher](./imgs/launcher.png)\n",
    "If the page was generated from a Jupyter notebook, this button will appear so that one can launch the notebook interactively. There are multiple options to launch the notebook interactively, as one will find by hovering the mouse over the icon -- [Binderhub](https://mybinder.org/), [powder Jupyterhub server](https://powder.ornl.gov/hub/), [Google Colab](https://colab.research.google.com/), or more interestingly, `Live Code` mode where users can execute interactive codes `without leaving the page` (this is realized via connection to Binderhub service). \n",
    "\n",
    "![github](./imgs/github.png)\n",
    "The book contents are hosted on GitHub and with this button, one can get access, make contribution, or submit issues to our GitHub repo.\n",
    "\n",
    "![download](./imgs/download.png)\n",
    "Download the current page as markdown file (`.md`), Jupyter notebook (`.ipynb`), or a PDF file (`.pdf`). Either `.md` or `.ipynb` option will appear if the page was generated from a markdown file or Jupyter notebook, respectively.\n",
    "\n",
    "![fullscreen](./imgs/fullscreen.png)\n",
    "This button is for viewing the website in full screen mode.\n",
    "\n",
    "![mode](./imgs/mode.png)\n",
    "This is for controlling the view mode of the website -- dark or light mode according to users' preference.\n",
    "\n",
    "![search](./imgs/search.png)\n",
    "An embedded search engine for quickly searching over the contents of the book."
   ]
  },
  {
   "cell_type": "markdown",
   "id": "46a576b4-113d-41df-a272-01abad1d96ca",
   "metadata": {},
   "source": [
    "To demonstrate the interaction with the book, we include the following the same piece of demo code as given in the [Jupyter book](https://jupyterbook.org/en/stable/interactive/thebe.html) documentation. To execute the code below, one needs to click on ![launcher](./imgs/launcher.png) -> `Live Code` button at top of the web page. The web host will then set up the live environment through [Binderhub](https://binderhub.readthedocs.io/en/latest/) connection, which may take ~1 minute. When the environment is ready, you should be able to see `Launching from mybinder.org: ready` at the top of the web page. Then click on the code snippet as below and press [Shift]+[Enter] to execute the code. Or, one can use the `run`, `restart`, and `restart & run all` buttons in the interactive cell (once the `Live Code` environment is ready, you will be able to see those buttons) to interact with the codes. One can also make changes to the code and execute again -- basically, this is a mini environment for executing small pieces of codes interactively."
   ]
  },
  {
   "cell_type": "code",
   "execution_count": 1,
   "id": "976da559-5825-481b-9147-62b675be12fc",
   "metadata": {
    "execution": {
     "iopub.execute_input": "2023-04-23T14:58:04.225059Z",
     "iopub.status.busy": "2023-04-23T14:58:04.224201Z",
     "iopub.status.idle": "2023-04-23T14:58:04.362296Z",
     "shell.execute_reply": "2023-04-23T14:58:04.361638Z",
     "shell.execute_reply.started": "2023-04-23T14:58:04.225033Z"
    },
    "tags": []
   },
   "outputs": [
    {
     "ename": "ModuleNotFoundError",
     "evalue": "No module named 'numpy'",
     "output_type": "error",
     "traceback": [
      "\u001b[0;31m---------------------------------------------------------------------------\u001b[0m",
      "\u001b[0;31mModuleNotFoundError\u001b[0m                       Traceback (most recent call last)",
      "\u001b[0;32m/var/folders/hl/07p51rnx1kb19p3flv_hzrxr2c0yrm/T/ipykernel_76201/472126340.py\u001b[0m in \u001b[0;36m<module>\u001b[0;34m\u001b[0m\n\u001b[0;32m----> 1\u001b[0;31m \u001b[0;32mimport\u001b[0m \u001b[0mnumpy\u001b[0m \u001b[0;32mas\u001b[0m \u001b[0mnp\u001b[0m\u001b[0;34m\u001b[0m\u001b[0;34m\u001b[0m\u001b[0m\n\u001b[0m\u001b[1;32m      2\u001b[0m \u001b[0;32mimport\u001b[0m \u001b[0mmatplotlib\u001b[0m\u001b[0;34m.\u001b[0m\u001b[0mpyplot\u001b[0m \u001b[0;32mas\u001b[0m \u001b[0mplt\u001b[0m\u001b[0;34m\u001b[0m\u001b[0;34m\u001b[0m\u001b[0m\n\u001b[1;32m      3\u001b[0m \u001b[0mplt\u001b[0m\u001b[0;34m.\u001b[0m\u001b[0mion\u001b[0m\u001b[0;34m(\u001b[0m\u001b[0;34m)\u001b[0m\u001b[0;34m\u001b[0m\u001b[0;34m\u001b[0m\u001b[0m\n\u001b[1;32m      4\u001b[0m \u001b[0;34m\u001b[0m\u001b[0m\n\u001b[1;32m      5\u001b[0m \u001b[0mx\u001b[0m \u001b[0;34m=\u001b[0m \u001b[0mnp\u001b[0m\u001b[0;34m.\u001b[0m\u001b[0marange\u001b[0m\u001b[0;34m(\u001b[0m\u001b[0;36m500\u001b[0m\u001b[0;34m)\u001b[0m\u001b[0;34m\u001b[0m\u001b[0;34m\u001b[0m\u001b[0m\n",
      "\u001b[0;31mModuleNotFoundError\u001b[0m: No module named 'numpy'"
     ]
    }
   ],
   "source": [
    "import numpy as np\n",
    "import matplotlib.pyplot as plt\n",
    "plt.ion()\n",
    "\n",
    "x = np.arange(500)\n",
    "y = np.random.randn(500)\n",
    "\n",
    "fig, ax = plt.subplots()\n",
    "ax.scatter(x, y, c=y, s=x)"
   ]
  },
  {
   "cell_type": "markdown",
   "id": "86a240a0-c3b9-4729-8905-2ce83ea8b264",
   "metadata": {},
   "source": [
    "To demonstrate the interaction with the book via various ways, we include a demo GIF as presented below,\n",
    "\n",
    "<img src=\"./imgs/pdbook_demo.gif\" width=\"1200\"/>"
   ]
  },
  {
   "cell_type": "code",
   "execution_count": null,
   "id": "7343f636-ad22-47ed-aaec-3dc6210f20ee",
   "metadata": {},
   "outputs": [],
   "source": []
  }
 ],
 "metadata": {
  "kernelspec": {
   "display_name": "base",
   "language": "python",
   "name": "python3"
  },
  "language_info": {
   "codemirror_mode": {
    "name": "ipython",
    "version": 3
   },
   "file_extension": ".py",
   "mimetype": "text/x-python",
   "name": "python",
   "nbconvert_exporter": "python",
   "pygments_lexer": "ipython3",
   "version": "3.7.16"
  },
  "widgets": {
   "application/vnd.jupyter.widget-state+json": {
    "state": {},
    "version_major": 2,
    "version_minor": 0
   }
  }
 },
 "nbformat": 4,
 "nbformat_minor": 5
}