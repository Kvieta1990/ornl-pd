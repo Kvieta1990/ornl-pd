{
 "cells": [
  {
   "cell_type": "markdown",
   "id": "a68f0307-7042-46b0-94ec-d6b87cbc88c1",
   "metadata": {},
   "source": [
    "POWGEN | BL-11A | SNS\n",
    "==="
   ]
  },
  {
   "cell_type": "markdown",
   "id": "48bbbd04-5097-4181-9ceb-be94f435e0ca",
   "metadata": {},
   "source": [
    "The autoreduction pipeline on POWGEN instrument is working robustly to automatically produce the Bragg diffraction data and the total scattering data once the raw measurement data is becoming available on the hard drive. To guarantee a successful running of the autoreduction pipeline, some necessary configurations need to be in place, including those calibration and characterization runs and a series of control parameters for the data reduction routines. Concerning the principles of the data reduction, one could refer to the page <a href=\"https://powder.ornl.gov/total_scattering/data_reduction/toc.html\" target=\"_blank\">here</a> in current book for more information. The calibration and characterization information is stored in the POWGEN shared location on the analysis cluster,\n",
    "\n",
    "```\n",
    "/SNS/PG3/shared/CALIBRATION\n",
    "```\n",
    "\n",
    "and each cycle has a series of calibration and characterization files corresponding to different sample environments or instrument setups. The configuration file for controlling the autoreduction routine is stored in json format and is stored in POWGEN shared location at,\n",
    "\n",
    "```\n",
    "/SNS/PG3/shared/autoreduce\n",
    "```\n",
    "\n",
    "The central configuration file `auto_config.json` located there contains high level controls over the autoreduction routine and also it contains the pointer to sample environment or setup specific configuration files. Those specific configuration files are stored here,\n",
    "\n",
    "```\n",
    "/SNS/PG3/shared/autoreduce/auto_config_files\n",
    "```\n",
    "\n",
    "Based on the information provided in the central configuration file `auto_config.json`, the autoreduction routine knows how to find those specific configuration files which contains the parameters to be used by the backend data reduction engine.\n",
    "\n",
    "Usually, all the files mentioned above need to be populated or modified by first logging into the analysis cluster, followed by editing those relevant files one-by-one using plain text editor. First, this is a tedious process. Second, it is very easy to make mistakes, which could then kill the whole autoreduction pipeline without anyone having a quick idea about what is happening. To make the whole process more transparent, easy to configure and error-proofing, we implemented a web-based interface in the <a href=\"https://addie.ornl.gov\" target=\"_blank\">ADDIE web platform</a>. The web interface intends to replace the tedious way of configuring the POWGEN autoreduction pipeline. Several key things to mention,\n",
    "\n",
    "1. To get access to the web interface concerning the POWGEN autoreduction configuration, one needs to hold a valid UCAMS/XCAMS account. Further, for the specific interfaces that will write files to the central POWGEN shared locations, only POWGEN team members can have the access.\n",
    "\n",
    "2. The configuration web interface is only for the configuration purpose but not is `NOT` intended to interfere with the running of the autoreduction routine. To do the interference with the autoreduction running, one needs to go to the monitor web service <a href=\"https://monitor.sns.gov/dasmon/pg3/\" target=\"_blank\">here</a>.\n",
    "\n",
    "The autoreduction configuration is implemented in such a way that a specific IPTS has its dedicated version of the configuration. In practice, if the IPTS specific version of the configuration cannot be found, the central configuration (those located in the POWGEN shared location as mentioned above) will be copied over to the IPTS specific location. Otherwise, the IPTS specific version will win over and general users are expected to make changes in IPTS specific locations for configuring the autoreduction for their experiments.\n",
    "\n",
    "> Currently, the web interface for general users for configuring the autoreduction is under development and will be online soon.\n",
    "\n",
    "A demonstration video has been recorded to go through the how-tos of using the web interface for characterization and autoreduction configuration, as can be found below,"
   ]
  },
  {
   "cell_type": "code",
   "execution_count": 1,
   "id": "5f465f64-ed81-41a9-af7f-668d578cd731",
   "metadata": {
    "execution": {
     "iopub.execute_input": "2024-02-02T20:28:56.762088Z",
     "iopub.status.busy": "2024-02-02T20:28:56.761751Z",
     "iopub.status.idle": "2024-02-02T20:28:56.937653Z",
     "shell.execute_reply": "2024-02-02T20:28:56.936917Z",
     "shell.execute_reply.started": "2024-02-02T20:28:56.762066Z"
    }
   },
   "outputs": [
    {
     "data": {
      "image/jpeg": "[encoded data removed]",
      "text/html": [
       "\n",
       "        <iframe\n",
       "            width=\"720\"\n",
       "            height=\"500\"\n",
       "            src=\"https://www.youtube.com/embed/yNTG0qD4HMs\"\n",
       "            frameborder=\"0\"\n",
       "            allowfullscreen\n",
       "            \n",
       "        ></iframe>\n",
       "        "
      ],
      "text/plain": [
       "<IPython.lib.display.YouTubeVideo at 0x7fe318641450>"
      ]
     },
     "execution_count": 1,
     "metadata": {},
     "output_type": "execute_result"
    }
   ],
   "source": [
    "from IPython.display import YouTubeVideo\n",
    "YouTubeVideo('yNTG0qD4HMs', width=720, height=500)"
   ]
  }
 ],
 "metadata": {
  "kernelspec": {
   "display_name": "Python (default)",
   "language": "python",
   "name": "python3"
  },
  "language_info": {
   "codemirror_mode": {
    "name": "ipython",
    "version": 3
   },
   "file_extension": ".py",
   "mimetype": "text/x-python",
   "name": "python",
   "nbconvert_exporter": "python",
   "pygments_lexer": "ipython3",
   "version": "3.7.16"
  },
  "widgets": {
   "application/vnd.jupyter.widget-state+json": {
    "state": {},
    "version_major": 2,
    "version_minor": 0
   }
  }
 },
 "nbformat": 4,
 "nbformat_minor": 5
}