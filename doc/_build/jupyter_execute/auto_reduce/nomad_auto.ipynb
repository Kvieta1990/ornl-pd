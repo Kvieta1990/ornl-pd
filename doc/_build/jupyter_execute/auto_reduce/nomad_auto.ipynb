{
 "cells": [
  {
   "cell_type": "markdown",
   "id": "e9a29fd1-2e0c-4974-991e-a43a614fa707",
   "metadata": {},
   "source": [
    "NOMAD | BL-1B | SNS\n",
    "==="
   ]
  },
  {
   "cell_type": "markdown",
   "id": "590b2aee-6072-4f8f-84b3-798b43242eb1",
   "metadata": {},
   "source": [
    "## Introduction\n",
    "\n",
    "The autoreduction at NOMAD is following the same reduction routine as used for the manual reduction. On one side, this is beneficial in terms of keeping consistence in between different reduction scenario and therefore beneficial for codes maintainance and further development. More impportantly, as enabled by the consistent implementation, it is more straightforward to enable caching at the autoreduction stage (as the data are being collected) and re-using of the cache at the manual reduction stage. This is especially important for the total scattering data reduction, with respect to the practical need to bring the data onto the so-called `absolute scale`. For such a purpose, it is often necessary to re-do the data reduction with adjusted scale according to the asymptotic behavior of the total scattering pattern in $Q$-space. As such, the re-using of cache whcih was accumulated at the autoreduction stage will be significantly reducing the computation time, especially in the case of absorption correction being necessary. See [here](https://powder.ornl.gov/total_scattering/data_reduction/mts_abs_ms.html#performance-boost) for relevant discussion about the performance boost in the case of absorption correction."
   ]
  },
  {
   "cell_type": "markdown",
   "id": "bb25f3ff-1f16-484d-905a-50e03f1ad108",
   "metadata": {},
   "source": [
    "## Implementation Flow\n",
    "\n",
    "<img src=\"../imgs/NOM_AutoRed.svg\" alt=\"drawing\" width=\"1000\"/>"
   ]
  },
  {
   "cell_type": "markdown",
   "id": "a46913d4-f140-4081-9d48-9085184cf70b",
   "metadata": {},
   "source": [
    "## How-to\n",
    "\n",
    "0. Normally, during the experiment, when data has been collected and saved to the analysis cluster, the corresponding autoreduction will be kicked off automatically and the produced data will be saved to, `/SNS/NOM/shared/autoreduce`. In case one needs to redo the autoreduction (say, when some pre-configuration was wrong or problematic, etc.), one could follow the steps below to re-do the autoreduction.\n",
    "\n",
    "1. Go to NOMAD monitor, <a href=\"https://monitor.sns.gov/report/nom/\" target=\"_blank\">https://monitor.sns.gov/report/nom/</a>.\n",
    "\n",
    "2. There you will a list of IPTS's -- select the one you are interested in and have access to.\n",
    "\n",
    "    <img src=\"../imgs/nom_auto_1.png\" alt=\"drawing\" width=\"800\"/>\n",
    "\n",
    "3. Click into an IPTS and you will see the list of runs,\n",
    "\n",
    "    <img src=\"../imgs/nom_auto_2.png\" alt=\"drawing\" width=\"800\"/>\n",
    "    \n",
    "4. Scroll to the botom of the page, and find the `reduction` option,\n",
    "\n",
    "    <img src=\"../imgs/nom_auto_3.png\" alt=\"drawing\" width=\"800\"/>\n",
    "\n",
    "5. Click on the link and the autoreduction will be kicked off.\n",
    "\n",
    "6. For users with admin access, one can go to the top of the page and click on `admin` to see,\n",
    "\n",
    "    <img src=\"../imgs/nom_auto_4.png\" alt=\"drawing\" width=\"800\"/>\n",
    "    \n",
    "    where one can fill in necessary information and selection `REDUCTION.REQUEST` option from the dropdown menu to submit batch runs of autoreduction jobs."
   ]
  },
  {
   "cell_type": "markdown",
   "id": "b2ecd49e-41ef-4e78-b2f0-2d0aed487c5b",
   "metadata": {},
   "source": [
    "## Coder Notes\n",
    "\n",
    "1. The autoreduction for various techniques at SNS and HFIR diffractometers have been re-vamped so that a consistent scheme is applied across techniques in terms of implementation. The design is to use the suitable conda environment for performing the reduction job, where the conda environment being used can be easily configured within the autoreduction script (as simple as specifying, e.g.,  `CONDA_ENV = 'mantid-dev'`).\n",
    "\n",
    "2. To test the autoreduction routine locally, one could grab the autoreduction script, make changes, and test it with the command,\n",
    "\n",
    "    2.1. `. /opt/anaconda/etc/profile.d/conda.sh && conda activate mantidtotalscattering`\n",
    "    \n",
    "    2.2. `python /path/to/reduce_NOM.py /path/to/input/nexus /path/to/output/that/is/out/of/the/way`"
   ]
  }
 ],
 "metadata": {
  "kernelspec": {
   "display_name": "Python (default)",
   "language": "python",
   "name": "python3"
  },
  "language_info": {
   "codemirror_mode": {
    "name": "ipython",
    "version": 3
   },
   "file_extension": ".py",
   "mimetype": "text/x-python",
   "name": "python",
   "nbconvert_exporter": "python",
   "pygments_lexer": "ipython3",
   "version": "3.10.10"
  },
  "widgets": {
   "application/vnd.jupyter.widget-state+json": {
    "state": {},
    "version_major": 2,
    "version_minor": 0
   }
  }
 },
 "nbformat": 4,
 "nbformat_minor": 5
}