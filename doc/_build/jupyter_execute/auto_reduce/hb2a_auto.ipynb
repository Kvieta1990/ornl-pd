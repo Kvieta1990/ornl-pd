{
 "cells": [
  {
   "cell_type": "markdown",
   "id": "2b0e8406-2c32-4710-a427-3f56dc556189",
   "metadata": {},
   "source": [
    "POWDER | HB-2A | HFIR\n",
    "==="
   ]
  },
  {
   "cell_type": "markdown",
   "id": "48c0d303-db53-415d-8757-e43c0e3a411f",
   "metadata": {},
   "source": []
  }
 ],
 "metadata": {
  "kernelspec": {
   "display_name": "Python (default)",
   "language": "python",
   "name": "python3"
  },
  "language_info": {
   "codemirror_mode": {
    "name": "ipython",
    "version": 3
   },
   "file_extension": ".py",
   "mimetype": "text/x-python",
   "name": "python",
   "nbconvert_exporter": "python",
   "pygments_lexer": "ipython3",
   "version": "3.12.4"
  },
  "widgets": {
   "application/vnd.jupyter.widget-state+json": {
    "state": {},
    "version_major": 2,
    "version_minor": 0
   }
  }
 },
 "nbformat": 4,
 "nbformat_minor": 5
}