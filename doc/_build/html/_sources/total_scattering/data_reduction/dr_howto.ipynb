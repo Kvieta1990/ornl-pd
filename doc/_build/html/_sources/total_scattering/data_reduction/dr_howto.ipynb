{
 "cells": [
  {
   "cell_type": "markdown",
   "id": "22fa7c40-f6e9-4e09-90cb-e41415a57d6a",
   "metadata": {},
   "source": [
    "Data Reduction How-to\n",
    "==="
   ]
  },
  {
   "cell_type": "markdown",
   "id": "8fd041f0-b2be-4a90-a965-5e60ad3ef29c",
   "metadata": {},
   "source": [
    "## Step-by-step Instruction"
   ]
  },
  {
   "cell_type": "markdown",
   "id": "fd6deeb2-cb6e-42ef-a800-7c3a38a06162",
   "metadata": {},
   "source": [
    "## Demo Videos"
   ]
  },
  {
   "cell_type": "markdown",
   "id": "1accb1aa-34ba-478e-9e6b-6d6a6da88b36",
   "metadata": {},
   "source": [
    "## More Materials"
   ]
  }
 ],
 "metadata": {
  "kernelspec": {
   "display_name": "Python (default)",
   "language": "python",
   "name": "python3"
  },
  "language_info": {
   "codemirror_mode": {
    "name": "ipython",
    "version": 3
   },
   "file_extension": ".py",
   "mimetype": "text/x-python",
   "name": "python",
   "nbconvert_exporter": "python",
   "pygments_lexer": "ipython3",
   "version": "3.7.13"
  },
  "widgets": {
   "application/vnd.jupyter.widget-state+json": {
    "state": {},
    "version_major": 2,
    "version_minor": 0
   }
  }
 },
 "nbformat": 4,
 "nbformat_minor": 5
}
