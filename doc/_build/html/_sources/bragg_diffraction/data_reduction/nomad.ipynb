{
 "cells": [
  {
   "cell_type": "markdown",
   "id": "abaf3017-b812-4524-bf94-b474c341cdbd",
   "metadata": {},
   "source": [
    "NOMAD | BL-1B | SNS\n",
    "==="
   ]
  },
  {
   "cell_type": "markdown",
   "id": "396e26e7-0416-43ea-9b4e-8373d5a241ae",
   "metadata": {},
   "source": [
    "The Bragg diffraction data reduction for NOMAD had been incorporated into the total scattering data reduction workflow and details can be found [here](https://powder.ornl.gov/total_scattering/data_reduction/toc.html)."
   ]
  }
 ],
 "metadata": {
  "kernelspec": {
   "display_name": "Python (default)",
   "language": "python",
   "name": "python3"
  },
  "language_info": {
   "codemirror_mode": {
    "name": "ipython",
    "version": 3
   },
   "file_extension": ".py",
   "mimetype": "text/x-python",
   "name": "python",
   "nbconvert_exporter": "python",
   "pygments_lexer": "ipython3",
   "version": "3.7.13"
  },
  "widgets": {
   "application/vnd.jupyter.widget-state+json": {
    "state": {},
    "version_major": 2,
    "version_minor": 0
   }
  }
 },
 "nbformat": 4,
 "nbformat_minor": 5
}
