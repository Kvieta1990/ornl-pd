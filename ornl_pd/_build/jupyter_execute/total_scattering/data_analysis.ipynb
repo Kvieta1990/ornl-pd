{
 "cells": [
  {
   "cell_type": "markdown",
   "id": "7973952a-7a9c-4f72-aa88-0d36e4488762",
   "metadata": {},
   "source": [
    "Data Analysis\n",
    "==="
   ]
  },
  {
   "cell_type": "markdown",
   "id": "81001a3d-6d15-4c1b-95e9-5efc85ae25e2",
   "metadata": {
    "jp-MarkdownHeadingCollapsed": true,
    "tags": []
   },
   "source": [
    "## Software"
   ]
  },
  {
   "cell_type": "markdown",
   "id": "d8d5c37a-ddcb-48c9-9b45-2d34d5610407",
   "metadata": {},
   "source": [
    "## Tutorials"
   ]
  }
 ],
 "metadata": {
  "kernelspec": {
   "display_name": "Python (default)",
   "language": "python",
   "name": "python3"
  },
  "language_info": {
   "codemirror_mode": {
    "name": "ipython",
    "version": 3
   },
   "file_extension": ".py",
   "mimetype": "text/x-python",
   "name": "python",
   "nbconvert_exporter": "python",
   "pygments_lexer": "ipython3",
   "version": "3.10.10"
  },
  "widgets": {
   "application/vnd.jupyter.widget-state+json": {
    "state": {},
    "version_major": 2,
    "version_minor": 0
   }
  }
 },
 "nbformat": 4,
 "nbformat_minor": 5
}